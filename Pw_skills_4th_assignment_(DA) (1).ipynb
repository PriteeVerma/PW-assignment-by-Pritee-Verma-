{
  "nbformat": 4,
  "nbformat_minor": 0,
  "metadata": {
    "colab": {
      "provenance": []
    },
    "kernelspec": {
      "name": "python3",
      "display_name": "Python 3"
    },
    "language_info": {
      "name": "python"
    }
  },
  "cells": [
    {
      "cell_type": "markdown",
      "source": [
        "# **Python OOPs Questions**"
      ],
      "metadata": {
        "id": "AMDnURV2uHHA"
      }
    },
    {
      "cell_type": "markdown",
      "source": [
        "**Q1. What is Object-Oriented Programming (OOP)?**\n",
        "\n",
        "- Object-Oriented Programming is a programming style where we organize code using objects. These objects represent real-world things and have both data (attributes) and functions (methods) related to them. OOP helps make code more modular, easier to maintain, and reusable. The four main pillars of OOP are Encapsulation, Inheritance, Polymorphism, and Abstraction.\n",
        "\n",
        "**Q2. What is a class in OOP?**\n",
        "\n",
        "- A class is like a template or blueprint used to create objects. It defines what data an object should hold and what operations it can perform. For example, if we create a Car class, it might have attributes like color, brand, and methods like drive() and brake(). But nothing is actually created until we make an object from that class.\n",
        "\n",
        "**Q3. What is an object in OOP?**\n",
        "\n",
        "- An object is a real instance of a class. It’s like the actual product made using the class blueprint. So, if Car is the class, then my_car = Car(\"Red\", \"Toyota\") is an object. Each object can have different values, and we can call its methods to perform actions.\n",
        "\n",
        "**Q4. What is the difference between abstraction and encapsulation?**\n",
        "\n",
        "- Abstraction means showing only the important details and hiding the complexity. For example, when you use a car, you just press the accelerator – you don’t need to know how the engine works internally.\n",
        "\n",
        "- Encapsulation is about protecting data by keeping it inside a class and making it accessible only through methods. In Python, this is done using private variables (__variable) and getter/setter methods.\n",
        "\n",
        "**Q5. What are dunder methods in Python?**\n",
        "\n",
        "- Dunder (double underscore) methods are special methods in Python like __init__, __str__, __len__, etc. They are automatically called in certain situations. For example, __str__ runs when we print an object, and __add__ runs when we use the + operator. They help customize how objects behave with Python's built-in operations.\n",
        "\n",
        "**Q6. Explain the concept of inheritance in OOP.**\n",
        "\n",
        "- Inheritance is a way to reuse code by letting one class (child) inherit features from another class (parent). The child class automatically gets the methods and attributes of the parent class and can also have its own or override the parent’s methods. For example, a Dog class can inherit from Animal and reuse methods like eat() or sleep().\n",
        "\n",
        "**Q7. What is polymorphism in OOP?**\n",
        "\n",
        "- Polymorphism means \"many forms\". In OOP, it allows us to use the same method name across different classes, but with different behaviors. For instance, different classes might have a method called speak(), but each one says something different. This helps in writing more general and flexible code.\n",
        "\n",
        "**Q8. How is encapsulation achieved in Python?**\n",
        "\n",
        "- In Python, encapsulation is done by making class variables private or protected using one or two underscores (_ or __). Then, we provide getter and setter methods to access or change these variables safely. This ensures that no one from outside the class can directly change important data without following rules.\n",
        "\n",
        "**Q9. What is a constructor in Python?**\n",
        "\n",
        "- In Python, a constructor is the __init__ method. It is automatically called when an object is created from a class. It helps in initializing the object’s attributes. For example, we can pass name and age when creating a Person object, and the constructor will set those values.\n",
        "\n",
        "**Q10. What are class and static methods in Python?**\n",
        "\n",
        "- A class method is marked with @classmethod and receives cls as its first argument. It works with the class itself, not the object, and is often used to create or modify class-level data.\n",
        "\n",
        "- A static method is marked with @staticmethod and doesn’t take self or cls. It behaves like a normal function but is placed inside the class for logical grouping.\n",
        "\n",
        "**Q11. What is method overloading in Python?**\n",
        "\n",
        "- Python doesn’t officially support method overloading (like having multiple methods with the same name but different parameters). However, we can simulate overloading by using default values, *args, or **kwargs in the method to accept a variable number of arguments.\n",
        "\n",
        "**Q12. What is method overriding in OOP?**\n",
        "\n",
        " - Method overriding is when a child class defines a method with the same name as a method in the parent class, but changes its behavior. This allows the child class to customize or completely change what happens when the method is called.\n",
        "\n",
        "**Q13. What is a property decorator in Python?**\n",
        "\n",
        "- The @property decorator allows us to access a method like an attribute, which is helpful when we want to control how a value is returned. For example, instead of using get_salary(), we can write salary and still run logic behind the scenes.\n",
        "\n",
        "**Q14. Why is polymorphism important in OOP?**\n",
        "\n",
        "- Polymorphism lets us write code that can work with objects of different types, as long as they share a common interface. This makes the code more general and reusable. For example, a function can take any kind of Animal and call its speak() method, even if each animal speaks differently.\n",
        "\n",
        "**Q15. What is an abstract class in Python?**\n",
        "\n",
        "- An abstract class is a class that cannot be instantiated directly. It's used to define a common interface for its subclasses. In Python, we use the abc module and the @abstractmethod decorator. Any class inheriting from it must implement the abstract methods.\n",
        "\n",
        "**Q16. What are the advantages of OOP?**\n",
        "\n",
        "- Code Reusability through inheritance\n",
        "\n",
        "- Encapsulation provides security\n",
        "\n",
        "- Abstraction hides complexity\n",
        "\n",
        "- Polymorphism makes code flexible\n",
        "\n",
        " - Easier to manage and scale large projects\n",
        "\n",
        "- Models real-world systems effectively\n",
        "\n",
        "**Q17. What is the difference between a class variable and an instance variable?**\n",
        "\n",
        "- A class variable is shared among all instances of the class. If changed, the new value reflects in all objects.\n",
        "\n",
        "- An instance variable is specific to each object. Changes in one object don’t affect others.\n",
        "Example: All students may share the same school_name (class variable), but each has a unique name (instance variable).\n",
        "\n",
        "**Q18. What is multiple inheritance in Python?**\n",
        "\n",
        "- Multiple inheritance means a class can inherit from more than one parent class. For example:\n",
        "\n",
        "class A:\n",
        "    pass\n",
        "\n",
        "class B:\n",
        "    pass\n",
        "\n",
        "class C(A, B):\n",
        "    pass\n",
        "\n",
        "\n",
        "Python handles this using MRO (Method Resolution Order) to decide which class’s method to call when there’s overlap.\n",
        "\n",
        "**Q19. Explain the purpose of __str__ and __repr__ methods in Python.**\n",
        "\n",
        "- __str__() defines the user-friendly string representation of an object. It’s what we see when we use print().\n",
        "- __repr__() is meant for developers, giving a detailed string that ideally can recreate the object. It’s used when we type the object name in the console or use repr().\n",
        "\n",
        "**Q20. What is the significance of the super() function in Python?**\n",
        "\n",
        "- super() is used in a child class to call a method from the parent class. It’s useful when we override a method but still want to use the parent’s version, like during initialization in __init__.\n",
        "\n",
        "**Q21. What is the significance of the __del__ method in Python?**\n",
        "\n",
        "- The __del__ method is called when an object is about to be deleted. It acts like a destructor, and is useful for cleanup tasks like closing files or releasing resources. It’s not commonly used in modern Python as garbage collection handles memory well.\n",
        "\n",
        "**Q22. What is the difference between @staticmethod and @classmethod in Python?**\n",
        "\n",
        "- @staticmethod doesn’t take self or cls. It doesn’t access or modify object or class data. It’s just a utility function inside a class.\n",
        "\n",
        "- @classmethod takes cls as the first parameter and can access/modify class-level variables or create class-based factory methods.\n",
        "\n",
        "**Q23. How does polymorphism work in Python with inheritance?**\n",
        "\n",
        "- When a child class overrides a method from the parent class, and we call that method using a parent reference, Python decides at runtime which version to use based on the object’s type. This is how polymorphism works with inheritance.\n",
        "\n",
        "**Q24. What is method chaining in Python OOP?**\n",
        "\n",
        "- Method chaining means calling multiple methods on the same object in a single line, like:\n",
        "\n",
        "obj.set_name(\"John\").set_age(25).save()\n",
        "\n",
        "\n",
        "- This only works if each method returns self, so the next method can be called on the same object.\n",
        "\n",
        "**Q25. What is the purpose of the __call__ method in Python?**\n",
        "\n",
        "- If a class defines the __call__ method, then its objects can be used like functions. So calling obj() will execute `obj.call"
      ],
      "metadata": {
        "id": "681FgV67uOUN"
      }
    },
    {
      "cell_type": "markdown",
      "source": [
        "# **Practical Questions**"
      ],
      "metadata": {
        "id": "RJh28GU3xivP"
      }
    },
    {
      "cell_type": "markdown",
      "source": [
        "**1. Create a parent class Animal with a method speak() that prints a generic message. Create a child class Dog\n",
        "that overrides the speak() method to print \"Bark!\".**"
      ],
      "metadata": {
        "id": "nvHcvHJrzRLH"
      }
    },
    {
      "cell_type": "code",
      "source": [
        "class Animal:\n",
        "    def speak(self):\n",
        "        print(\"This animal makes a sound\")\n",
        "\n",
        "class Dog(Animal):\n",
        "    def speak(self):\n",
        "        print(\"Bark!\")\n",
        "\n",
        "d = Dog()\n",
        "d.speak()\n"
      ],
      "metadata": {
        "colab": {
          "base_uri": "https://localhost:8080/"
        },
        "id": "uVcEF-1jzhJY",
        "outputId": "bd1ca32a-5599-4380-fe6d-56a5963d528b"
      },
      "execution_count": 2,
      "outputs": [
        {
          "output_type": "stream",
          "name": "stdout",
          "text": [
            "Bark!\n"
          ]
        }
      ]
    },
    {
      "cell_type": "markdown",
      "source": [
        "**2. Write a program to create an abstract class Shape with a method area(). Derive classes Circle and Rectangle\n",
        "from it and implement the area() method in both.**"
      ],
      "metadata": {
        "id": "URWnWSsy0khV"
      }
    },
    {
      "cell_type": "code",
      "source": [
        "from abc import ABC, abstractmethod\n",
        "\n",
        "class Shape(ABC):\n",
        "    @abstractmethod\n",
        "    def area(self):\n",
        "        pass\n",
        "\n",
        "class Circle(Shape):\n",
        "    def __init__(self, r):\n",
        "        self.r = r\n",
        "\n",
        "    def area(self):\n",
        "        return 3.14 * self.r * self.r\n",
        "\n",
        "class Rectangle(Shape):\n",
        "    def __init__(self, l, w):\n",
        "        self.l = l\n",
        "        self.w = w\n",
        "\n",
        "    def area(self):\n",
        "        return self.l * self.w\n",
        "\n",
        "c = Circle(5)\n",
        "r = Rectangle(4, 6)\n",
        "print(\"Circle area:\", c.area())\n",
        "print(\"Rectangle area:\", r.area())\n"
      ],
      "metadata": {
        "colab": {
          "base_uri": "https://localhost:8080/"
        },
        "id": "FkSrUd9z3dij",
        "outputId": "34067920-5600-4c37-bb54-c8df40bc6a87"
      },
      "execution_count": 3,
      "outputs": [
        {
          "output_type": "stream",
          "name": "stdout",
          "text": [
            "Circle area: 78.5\n",
            "Rectangle area: 24\n"
          ]
        }
      ]
    },
    {
      "cell_type": "markdown",
      "source": [
        "**3. Implement a multi-level inheritance scenario where a class Vehicle has an attribute type. Derive a class Car\n",
        "and further derive a class ElectricCar that adds a battery attribute**"
      ],
      "metadata": {
        "id": "fTEBABXK1A9I"
      }
    },
    {
      "cell_type": "code",
      "source": [
        "class Vehicle:\n",
        "    def __init__(self):\n",
        "        self.type = \"Vehicle\"\n",
        "\n",
        "class Car(Vehicle):\n",
        "    def __init__(self):\n",
        "        super().__init__()\n",
        "        self.brand = \"Generic Car\"\n",
        "\n",
        "class ElectricCar(Car):\n",
        "    def __init__(self):\n",
        "        super().__init__()\n",
        "        self.battery = 100\n",
        "\n",
        "e = ElectricCar()\n",
        "print(\"Type:\", e.type)\n",
        "print(\"Brand:\", e.brand)\n",
        "print(\"Battery:\", e.battery, \"%\")\n"
      ],
      "metadata": {
        "colab": {
          "base_uri": "https://localhost:8080/"
        },
        "id": "cQBfX_n63oxs",
        "outputId": "1911c0df-be87-43f8-d6a6-cd4f9f95b135"
      },
      "execution_count": 4,
      "outputs": [
        {
          "output_type": "stream",
          "name": "stdout",
          "text": [
            "Type: Vehicle\n",
            "Brand: Generic Car\n",
            "Battery: 100 %\n"
          ]
        }
      ]
    },
    {
      "cell_type": "markdown",
      "source": [
        "**4. Demonstrate polymorphism by creating a base class Bird with a method fly(). Create two derived classes\n",
        "Sparrow and Penguin that override the fly() method.**"
      ],
      "metadata": {
        "id": "grBh0RlS1HA4"
      }
    },
    {
      "cell_type": "code",
      "source": [
        "class Bird:\n",
        "    def fly(self):\n",
        "        print(\"Some birds can fly\")\n",
        "\n",
        "class Sparrow(Bird):\n",
        "    def fly(self):\n",
        "        print(\"Sparrow flies high\")\n",
        "\n",
        "class Penguin(Bird):\n",
        "    def fly(self):\n",
        "        print(\"Penguin cannot fly\")\n",
        "\n",
        "b1 = Sparrow()\n",
        "b2 = Penguin()\n",
        "b1.fly()\n",
        "b2.fly()\n"
      ],
      "metadata": {
        "colab": {
          "base_uri": "https://localhost:8080/"
        },
        "id": "hdqsMi1R3sUX",
        "outputId": "475f0cd7-f57f-47ee-a98a-530acbdbc375"
      },
      "execution_count": 5,
      "outputs": [
        {
          "output_type": "stream",
          "name": "stdout",
          "text": [
            "Sparrow flies high\n",
            "Penguin cannot fly\n"
          ]
        }
      ]
    },
    {
      "cell_type": "markdown",
      "source": [
        "**5. Write a program to demonstrate encapsulation by creating a class BankAccount with private attributes\n",
        "balance and methods to deposit, withdraw, and check balance.**"
      ],
      "metadata": {
        "id": "CEFnItoz1RSN"
      }
    },
    {
      "cell_type": "code",
      "source": [
        "class BankAccount:\n",
        "    def __init__(self):\n",
        "        self.__balance = 0\n",
        "\n",
        "    def deposit(self, amount):\n",
        "        self.__balance += amount\n",
        "\n",
        "    def withdraw(self, amount):\n",
        "        if amount <= self.__balance:\n",
        "            self.__balance -= amount\n",
        "        else:\n",
        "            print(\"Insufficient balance\")\n",
        "\n",
        "    def get_balance(self):\n",
        "        return self.__balance\n",
        "\n",
        "acc = BankAccount()\n",
        "acc.deposit(5000)\n",
        "acc.withdraw(1500)\n",
        "print(\"Balance:\", acc.get_balance())\n"
      ],
      "metadata": {
        "colab": {
          "base_uri": "https://localhost:8080/"
        },
        "id": "g1DIi8qI3xnQ",
        "outputId": "6c6f9d20-3b8a-411c-e3f8-f717642f5fd5"
      },
      "execution_count": 6,
      "outputs": [
        {
          "output_type": "stream",
          "name": "stdout",
          "text": [
            "Balance: 3500\n"
          ]
        }
      ]
    },
    {
      "cell_type": "markdown",
      "source": [
        "**6. Demonstrate runtime polymorphism using a method play() in a base class Instrument. Derive classes Guitar\n",
        "and Piano that implement their own version of play()**"
      ],
      "metadata": {
        "id": "uKmcDc3C1bgY"
      }
    },
    {
      "cell_type": "code",
      "source": [
        "class Instrument:\n",
        "    def play(self):\n",
        "        print(\"Playing an instrument\")\n",
        "\n",
        "class Guitar(Instrument):\n",
        "    def play(self):\n",
        "        print(\"Playing guitar\")\n",
        "\n",
        "class Piano(Instrument):\n",
        "    def play(self):\n",
        "        print(\"Playing piano\")\n",
        "\n",
        "i1 = Guitar()\n",
        "i2 = Piano()\n",
        "i1.play()\n",
        "i2.play()\n"
      ],
      "metadata": {
        "colab": {
          "base_uri": "https://localhost:8080/"
        },
        "id": "UTXUL_W331Af",
        "outputId": "bf90aa36-215d-4d81-82f4-fbbfc8bdb085"
      },
      "execution_count": 7,
      "outputs": [
        {
          "output_type": "stream",
          "name": "stdout",
          "text": [
            "Playing guitar\n",
            "Playing piano\n"
          ]
        }
      ]
    },
    {
      "cell_type": "markdown",
      "source": [
        "**7. Create a class MathOperations with a class method add_numbers() to add two numbers and a static\n",
        "method subtract_numbers() to subtract two numbers.**\n",
        "\n",
        "\n"
      ],
      "metadata": {
        "id": "SF_KxGSR1m29"
      }
    },
    {
      "cell_type": "code",
      "source": [
        "class MathOperations:\n",
        "    @classmethod\n",
        "    def add_numbers(cls, a, b):\n",
        "        return a + b\n",
        "\n",
        "    @staticmethod\n",
        "    def subtract_numbers(a, b):\n",
        "        return a - b\n",
        "\n",
        "print(\"Sum:\", MathOperations.add_numbers(10, 20))\n",
        "print(\"Difference:\", MathOperations.subtract_numbers(30, 10))\n"
      ],
      "metadata": {
        "colab": {
          "base_uri": "https://localhost:8080/"
        },
        "id": "NrJ9Jbm233lf",
        "outputId": "efa6918b-f636-4aed-afc9-c6dfb6a251eb"
      },
      "execution_count": 8,
      "outputs": [
        {
          "output_type": "stream",
          "name": "stdout",
          "text": [
            "Sum: 30\n",
            "Difference: 20\n"
          ]
        }
      ]
    },
    {
      "cell_type": "markdown",
      "source": [
        "**8. Implement a class Person with a class method to count the total number of persons created.**"
      ],
      "metadata": {
        "id": "4j51tTj23QDe"
      }
    },
    {
      "cell_type": "code",
      "source": [
        "class Person:\n",
        "    count = 0\n",
        "\n",
        "    def __init__(self, name):\n",
        "        self.name = name\n",
        "        Person.count += 1\n",
        "\n",
        "    @classmethod\n",
        "    def total_persons(cls):\n",
        "        print(\"Total persons created:\", cls.count)\n",
        "\n",
        "p1 = Person(\"A\")\n",
        "p2 = Person(\"B\")\n",
        "Person.total_persons()\n"
      ],
      "metadata": {
        "colab": {
          "base_uri": "https://localhost:8080/"
        },
        "id": "585R9BUL36yR",
        "outputId": "553da916-cc08-411b-ac00-ce7ef13877d6"
      },
      "execution_count": 9,
      "outputs": [
        {
          "output_type": "stream",
          "name": "stdout",
          "text": [
            "Total persons created: 2\n"
          ]
        }
      ]
    },
    {
      "cell_type": "markdown",
      "source": [
        "**9. Write a class Fraction with attributes numerator and denominator. Override the str method to display the\n",
        "fraction as \"numerator/denominator\".**"
      ],
      "metadata": {
        "id": "thcUMLP83MlO"
      }
    },
    {
      "cell_type": "code",
      "source": [
        "class Fraction:\n",
        "    def __init__(self, n, d):\n",
        "        self.numerator = n\n",
        "        self.denominator = d\n",
        "\n",
        "    def __str__(self):\n",
        "        return f\"{self.numerator}/{self.denominator}\"\n",
        "\n",
        "f = Fraction(3, 4)\n",
        "print(f)\n"
      ],
      "metadata": {
        "colab": {
          "base_uri": "https://localhost:8080/"
        },
        "id": "qcavf1aK39qi",
        "outputId": "60a6cf2b-9aaf-4db7-f260-f9986b1a5d2d"
      },
      "execution_count": 10,
      "outputs": [
        {
          "output_type": "stream",
          "name": "stdout",
          "text": [
            "3/4\n"
          ]
        }
      ]
    },
    {
      "cell_type": "markdown",
      "source": [
        "**10. Demonstrate operator overloading by creating a class Vector and overriding the add method to add two vectors.**"
      ],
      "metadata": {
        "id": "iplgZaVG3EeF"
      }
    },
    {
      "cell_type": "code",
      "source": [
        "class Vector:\n",
        "    def __init__(self, x, y):\n",
        "        self.x = x\n",
        "        self.y = y\n",
        "\n",
        "    def __add__(self, other):\n",
        "        return Vector(self.x + other.x, self.y + other.y)\n",
        "\n",
        "    def __str__(self):\n",
        "        return f\"({self.x}, {self.y})\"\n",
        "\n",
        "v1 = Vector(2, 3)\n",
        "v2 = Vector(4, 5)\n",
        "print(\"Sum:\", v1 + v2)\n"
      ],
      "metadata": {
        "colab": {
          "base_uri": "https://localhost:8080/"
        },
        "id": "UJgoa4jS4A27",
        "outputId": "572a9cb8-d0b9-4f69-9f75-4a3ba793cf13"
      },
      "execution_count": 11,
      "outputs": [
        {
          "output_type": "stream",
          "name": "stdout",
          "text": [
            "Sum: (6, 8)\n"
          ]
        }
      ]
    },
    {
      "cell_type": "markdown",
      "source": [
        "\n",
        "**11. Create a class Person with attributes name and age. Add a method greet() that prints \"Hello, my name is\n",
        "{name} and I am {age} years old.\"**"
      ],
      "metadata": {
        "id": "llMSdntv28vy"
      }
    },
    {
      "cell_type": "code",
      "source": [
        "class Person:\n",
        "    def __init__(self, name, age):\n",
        "        self.name = name\n",
        "        self.age = age\n",
        "\n",
        "    def greet(self):\n",
        "        print(f\"Hello, my name is {self.name} and I am {self.age} years old.\")\n",
        "\n",
        "p = Person(\"Priti\", 25)\n",
        "p.greet()\n"
      ],
      "metadata": {
        "colab": {
          "base_uri": "https://localhost:8080/"
        },
        "id": "km8g87by4Fnd",
        "outputId": "2785d35d-d1c7-40f6-b776-9a7eddd112b7"
      },
      "execution_count": 12,
      "outputs": [
        {
          "output_type": "stream",
          "name": "stdout",
          "text": [
            "Hello, my name is Priti and I am 25 years old.\n"
          ]
        }
      ]
    },
    {
      "cell_type": "markdown",
      "source": [
        "\n",
        "**12. Implement a class Student with attributes name and grades. Create a method average_grade() to compute\n",
        "the average of the grades.**"
      ],
      "metadata": {
        "id": "CgKPG4CQ24IZ"
      }
    },
    {
      "cell_type": "code",
      "source": [
        "class Student:\n",
        "    def __init__(self, name, grades):\n",
        "        self.name = name\n",
        "        self.grades = grades\n",
        "\n",
        "    def average_grade(self):\n",
        "        return sum(self.grades) / len(self.grades)\n",
        "\n",
        "s = Student(\"Priti\", [85, 90, 80])\n",
        "print(\"Average:\", s.average_grade())\n"
      ],
      "metadata": {
        "colab": {
          "base_uri": "https://localhost:8080/"
        },
        "id": "gCZ74Pnw4IPR",
        "outputId": "611e8e08-3973-41cd-f39b-065b87616d65"
      },
      "execution_count": 13,
      "outputs": [
        {
          "output_type": "stream",
          "name": "stdout",
          "text": [
            "Average: 85.0\n"
          ]
        }
      ]
    },
    {
      "cell_type": "markdown",
      "source": [
        "**13. Create a class Rectangle with methods set_dimensions() to set the dimensions and area() to calculate the\n",
        "area.**"
      ],
      "metadata": {
        "id": "x-X3werk2qSp"
      }
    },
    {
      "cell_type": "code",
      "source": [
        "class Rectangle:\n",
        "    def set_dimensions(self, l, w):\n",
        "        self.length = l\n",
        "        self.width = w\n",
        "\n",
        "    def area(self):\n",
        "        return self.length * self.width\n",
        "\n",
        "r = Rectangle()\n",
        "r.set_dimensions(5, 4)\n",
        "print(\"Area:\", r.area())\n"
      ],
      "metadata": {
        "colab": {
          "base_uri": "https://localhost:8080/"
        },
        "id": "iqvvU6wL4Kw1",
        "outputId": "bece7b93-1908-4639-c466-2a65a6bb6567"
      },
      "execution_count": 14,
      "outputs": [
        {
          "output_type": "stream",
          "name": "stdout",
          "text": [
            "Area: 20\n"
          ]
        }
      ]
    },
    {
      "cell_type": "markdown",
      "source": [
        "**14. Create a class Employee with a method calculate_salary() that computes the salary based on hours worked\n",
        "and hourly rate. Create a derived class Manager that adds a bonus to the salary.**"
      ],
      "metadata": {
        "id": "g0xhiT-91oMn"
      }
    },
    {
      "cell_type": "code",
      "source": [
        "class Employee:\n",
        "    def calculate_salary(self, hours, rate):\n",
        "        return hours * rate\n",
        "\n",
        "class Manager(Employee):\n",
        "    def __init__(self, bonus):\n",
        "        self.bonus = bonus\n",
        "\n",
        "    def calculate_salary(self, hours, rate):\n",
        "        return super().calculate_salary(hours, rate) + self.bonus\n",
        "\n",
        "m = Manager(5000)\n",
        "print(\"Total Salary:\", m.calculate_salary(160, 200))\n"
      ],
      "metadata": {
        "colab": {
          "base_uri": "https://localhost:8080/"
        },
        "id": "ajeJsykw4N2k",
        "outputId": "c0c60e96-2ef9-4b35-aae1-33b282f8f201"
      },
      "execution_count": 15,
      "outputs": [
        {
          "output_type": "stream",
          "name": "stdout",
          "text": [
            "Total Salary: 37000\n"
          ]
        }
      ]
    },
    {
      "cell_type": "markdown",
      "source": [
        "**15. Create a class Product with attributes name, price, and quantity. Implement a method total_price() that\n",
        "calculates the total price of the product**"
      ],
      "metadata": {
        "id": "zOOF_X_p4Sjp"
      }
    },
    {
      "cell_type": "code",
      "source": [
        "class Product:\n",
        "    def __init__(self, name, price, quantity):\n",
        "        self.name = name\n",
        "        self.price = price\n",
        "        self.quantity = quantity\n",
        "\n",
        "    def total_price(self):\n",
        "        return self.price * self.quantity\n",
        "\n",
        "p = Product(\"Laptop\", 50000, 2)\n",
        "print(\"Total Price:\", p.total_price())\n"
      ],
      "metadata": {
        "colab": {
          "base_uri": "https://localhost:8080/"
        },
        "id": "9ver4moz41hv",
        "outputId": "8fea682e-d2d9-4ea6-f589-f736192f2d8f"
      },
      "execution_count": 16,
      "outputs": [
        {
          "output_type": "stream",
          "name": "stdout",
          "text": [
            "Total Price: 100000\n"
          ]
        }
      ]
    },
    {
      "cell_type": "markdown",
      "source": [
        "**16. Create a class Animal with an abstract method sound(). Create two derived classes Cow and Sheep that\n",
        "implement the sound() method.**"
      ],
      "metadata": {
        "id": "KuBYBwJa4XfT"
      }
    },
    {
      "cell_type": "code",
      "source": [
        "from abc import ABC, abstractmethod\n",
        "\n",
        "class Animal(ABC):\n",
        "    @abstractmethod\n",
        "    def sound(self):\n",
        "        pass\n",
        "\n",
        "class Cow(Animal):\n",
        "    def sound(self):\n",
        "        print(\"Moo\")\n",
        "\n",
        "class Sheep(Animal):\n",
        "    def sound(self):\n",
        "        print(\"Baa\")\n",
        "\n",
        "a1 = Cow()\n",
        "a2 = Sheep()\n",
        "a1.sound()\n",
        "a2.sound()\n"
      ],
      "metadata": {
        "colab": {
          "base_uri": "https://localhost:8080/"
        },
        "id": "YRwwDLGc45tb",
        "outputId": "06035792-65b0-4df5-9fdf-521104e81795"
      },
      "execution_count": 17,
      "outputs": [
        {
          "output_type": "stream",
          "name": "stdout",
          "text": [
            "Moo\n",
            "Baa\n"
          ]
        }
      ]
    },
    {
      "cell_type": "markdown",
      "source": [
        "**17. Create a class Book with attributes title, author, and year_published. Add a method get_book_info() that\n",
        "returns a formatted string with the book's details.**"
      ],
      "metadata": {
        "id": "JMIWZlPK4hMq"
      }
    },
    {
      "cell_type": "code",
      "source": [
        "class Book:\n",
        "    def __init__(self, title, author, year_published):\n",
        "        self.title = title\n",
        "        self.author = author\n",
        "        self.year_published = year_published\n",
        "\n",
        "    def get_book_info(self):\n",
        "        return f\"Title: {self.title}, Author: {self.author}, Year: {self.year_published}\"\n",
        "\n",
        "b = Book(\"Python Basics\", \"Guido van Rossum\", 1991)\n",
        "print(b.get_book_info())\n"
      ],
      "metadata": {
        "colab": {
          "base_uri": "https://localhost:8080/"
        },
        "id": "I1H6Aw8848yX",
        "outputId": "caa6eb98-3ebf-494d-d711-33fb80c3ff8d"
      },
      "execution_count": 18,
      "outputs": [
        {
          "output_type": "stream",
          "name": "stdout",
          "text": [
            "Title: Python Basics, Author: Guido van Rossum, Year: 1991\n"
          ]
        }
      ]
    },
    {
      "cell_type": "markdown",
      "source": [
        "**18. Create a class House with attributes address and price. Create a derived class Mansion that adds an\n",
        "attribute number_of_rooms.**"
      ],
      "metadata": {
        "id": "hwIpsn0k4tWB"
      }
    },
    {
      "cell_type": "code",
      "source": [
        "class House:\n",
        "    def __init__(self, address, price):\n",
        "        self.address = address\n",
        "        self.price = price\n",
        "\n",
        "class Mansion(House):\n",
        "    def __init__(self, address, price, rooms):\n",
        "        super().__init__(address, price)\n",
        "        self.number_of_rooms = rooms\n",
        "\n",
        "m = Mansion(\"Bhopal\", 7500000, 10)\n",
        "print(\"Address:\", m.address)\n",
        "print(\"Price:\", m.price)\n",
        "print(\"Rooms:\", m.number_of_rooms)\n"
      ],
      "metadata": {
        "colab": {
          "base_uri": "https://localhost:8080/"
        },
        "id": "X-_In-C94_nR",
        "outputId": "4e96d440-a715-4da0-83a7-7d036239bccc"
      },
      "execution_count": 19,
      "outputs": [
        {
          "output_type": "stream",
          "name": "stdout",
          "text": [
            "Address: Bhopal\n",
            "Price: 7500000\n",
            "Rooms: 10\n"
          ]
        }
      ]
    }
  ]
}